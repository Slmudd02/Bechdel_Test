{
 "cells": [
  {
   "cell_type": "code",
   "execution_count": 6,
   "id": "a07fc3f6",
   "metadata": {},
   "outputs": [],
   "source": [
    "import pandas as pd \n",
    "import numpy as np\n",
    "from matplotlib import pyplot as plt"
   ]
  },
  {
   "cell_type": "code",
   "execution_count": 7,
   "id": "62ad3dd0",
   "metadata": {},
   "outputs": [],
   "source": [
    "#Import both csv files\n",
    "df1 = pd.read_csv('movies.csv', usecols=['Movie Title', 'Year of Realease'])\n",
    "\n",
    "df2 = pd.read_csv('women_movies.csv',usecols=['year', 'title', 'binary', 'clean_test'])"
   ]
  },
  {
   "cell_type": "code",
   "execution_count": 30,
   "id": "6820ca22",
   "metadata": {},
   "outputs": [
    {
     "data": {
      "text/html": [
       "<div>\n",
       "<style scoped>\n",
       "    .dataframe tbody tr th:only-of-type {\n",
       "        vertical-align: middle;\n",
       "    }\n",
       "\n",
       "    .dataframe tbody tr th {\n",
       "        vertical-align: top;\n",
       "    }\n",
       "\n",
       "    .dataframe thead th {\n",
       "        text-align: right;\n",
       "    }\n",
       "</style>\n",
       "<table border=\"1\" class=\"dataframe\">\n",
       "  <thead>\n",
       "    <tr style=\"text-align: right;\">\n",
       "      <th></th>\n",
       "      <th>title</th>\n",
       "      <th>year</th>\n",
       "    </tr>\n",
       "  </thead>\n",
       "  <tbody>\n",
       "    <tr>\n",
       "      <th>0</th>\n",
       "      <td>Avatar</td>\n",
       "      <td>2009</td>\n",
       "    </tr>\n",
       "    <tr>\n",
       "      <th>1</th>\n",
       "      <td>Avengers: Endgame</td>\n",
       "      <td>2019</td>\n",
       "    </tr>\n",
       "    <tr>\n",
       "      <th>2</th>\n",
       "      <td>Titanic</td>\n",
       "      <td>1997</td>\n",
       "    </tr>\n",
       "    <tr>\n",
       "      <th>3</th>\n",
       "      <td>Star Wars: Episode VII - The Force Awakens</td>\n",
       "      <td>2015</td>\n",
       "    </tr>\n",
       "    <tr>\n",
       "      <th>4</th>\n",
       "      <td>Avengers: Infinity War</td>\n",
       "      <td>2018</td>\n",
       "    </tr>\n",
       "    <tr>\n",
       "      <th>...</th>\n",
       "      <td>...</td>\n",
       "      <td>...</td>\n",
       "    </tr>\n",
       "    <tr>\n",
       "      <th>995</th>\n",
       "      <td>The A-Team</td>\n",
       "      <td>2010</td>\n",
       "    </tr>\n",
       "    <tr>\n",
       "      <th>996</th>\n",
       "      <td>Tootsie</td>\n",
       "      <td>1982</td>\n",
       "    </tr>\n",
       "    <tr>\n",
       "      <th>997</th>\n",
       "      <td>In the Line of Fire</td>\n",
       "      <td>1993</td>\n",
       "    </tr>\n",
       "    <tr>\n",
       "      <th>998</th>\n",
       "      <td>Analyze This</td>\n",
       "      <td>1999</td>\n",
       "    </tr>\n",
       "    <tr>\n",
       "      <th>999</th>\n",
       "      <td>The Hitman's Bodyguard</td>\n",
       "      <td>2017</td>\n",
       "    </tr>\n",
       "  </tbody>\n",
       "</table>\n",
       "<p>1000 rows × 2 columns</p>\n",
       "</div>"
      ],
      "text/plain": [
       "                                          title  year\n",
       "0                                        Avatar  2009\n",
       "1                             Avengers: Endgame  2019\n",
       "2                                       Titanic  1997\n",
       "3    Star Wars: Episode VII - The Force Awakens  2015\n",
       "4                        Avengers: Infinity War  2018\n",
       "..                                          ...   ...\n",
       "995                                  The A-Team  2010\n",
       "996                                     Tootsie  1982\n",
       "997                         In the Line of Fire  1993\n",
       "998                                Analyze This  1999\n",
       "999                      The Hitman's Bodyguard  2017\n",
       "\n",
       "[1000 rows x 2 columns]"
      ]
     },
     "execution_count": 30,
     "metadata": {},
     "output_type": "execute_result"
    }
   ],
   "source": [
    "df1"
   ]
  },
  {
   "cell_type": "code",
   "execution_count": 31,
   "id": "f5cce76d",
   "metadata": {},
   "outputs": [
    {
     "data": {
      "text/html": [
       "<div>\n",
       "<style scoped>\n",
       "    .dataframe tbody tr th:only-of-type {\n",
       "        vertical-align: middle;\n",
       "    }\n",
       "\n",
       "    .dataframe tbody tr th {\n",
       "        vertical-align: top;\n",
       "    }\n",
       "\n",
       "    .dataframe thead th {\n",
       "        text-align: right;\n",
       "    }\n",
       "</style>\n",
       "<table border=\"1\" class=\"dataframe\">\n",
       "  <thead>\n",
       "    <tr style=\"text-align: right;\">\n",
       "      <th></th>\n",
       "      <th>year</th>\n",
       "      <th>title</th>\n",
       "      <th>clean_test</th>\n",
       "      <th>pass_or_fail</th>\n",
       "    </tr>\n",
       "  </thead>\n",
       "  <tbody>\n",
       "    <tr>\n",
       "      <th>0</th>\n",
       "      <td>2013</td>\n",
       "      <td>21 &amp;amp; Over</td>\n",
       "      <td>notalk</td>\n",
       "      <td>FAIL</td>\n",
       "    </tr>\n",
       "    <tr>\n",
       "      <th>1</th>\n",
       "      <td>2012</td>\n",
       "      <td>Dredd 3D</td>\n",
       "      <td>ok</td>\n",
       "      <td>PASS</td>\n",
       "    </tr>\n",
       "    <tr>\n",
       "      <th>2</th>\n",
       "      <td>2013</td>\n",
       "      <td>12 Years a Slave</td>\n",
       "      <td>notalk</td>\n",
       "      <td>FAIL</td>\n",
       "    </tr>\n",
       "    <tr>\n",
       "      <th>3</th>\n",
       "      <td>2013</td>\n",
       "      <td>2 Guns</td>\n",
       "      <td>notalk</td>\n",
       "      <td>FAIL</td>\n",
       "    </tr>\n",
       "    <tr>\n",
       "      <th>4</th>\n",
       "      <td>2013</td>\n",
       "      <td>42</td>\n",
       "      <td>men</td>\n",
       "      <td>FAIL</td>\n",
       "    </tr>\n",
       "    <tr>\n",
       "      <th>...</th>\n",
       "      <td>...</td>\n",
       "      <td>...</td>\n",
       "      <td>...</td>\n",
       "      <td>...</td>\n",
       "    </tr>\n",
       "    <tr>\n",
       "      <th>1789</th>\n",
       "      <td>1971</td>\n",
       "      <td>Shaft</td>\n",
       "      <td>notalk</td>\n",
       "      <td>FAIL</td>\n",
       "    </tr>\n",
       "    <tr>\n",
       "      <th>1790</th>\n",
       "      <td>1971</td>\n",
       "      <td>Straw Dogs</td>\n",
       "      <td>notalk</td>\n",
       "      <td>FAIL</td>\n",
       "    </tr>\n",
       "    <tr>\n",
       "      <th>1791</th>\n",
       "      <td>1971</td>\n",
       "      <td>The French Connection</td>\n",
       "      <td>notalk</td>\n",
       "      <td>FAIL</td>\n",
       "    </tr>\n",
       "    <tr>\n",
       "      <th>1792</th>\n",
       "      <td>1971</td>\n",
       "      <td>Willy Wonka &amp;amp; the Chocolate Factory</td>\n",
       "      <td>men</td>\n",
       "      <td>FAIL</td>\n",
       "    </tr>\n",
       "    <tr>\n",
       "      <th>1793</th>\n",
       "      <td>1970</td>\n",
       "      <td>Beyond the Valley of the Dolls</td>\n",
       "      <td>ok</td>\n",
       "      <td>PASS</td>\n",
       "    </tr>\n",
       "  </tbody>\n",
       "</table>\n",
       "<p>1794 rows × 4 columns</p>\n",
       "</div>"
      ],
      "text/plain": [
       "      year                                    title clean_test pass_or_fail\n",
       "0     2013                            21 &amp; Over     notalk         FAIL\n",
       "1     2012                                 Dredd 3D         ok         PASS\n",
       "2     2013                         12 Years a Slave     notalk         FAIL\n",
       "3     2013                                   2 Guns     notalk         FAIL\n",
       "4     2013                                       42        men         FAIL\n",
       "...    ...                                      ...        ...          ...\n",
       "1789  1971                                    Shaft     notalk         FAIL\n",
       "1790  1971                               Straw Dogs     notalk         FAIL\n",
       "1791  1971                    The French Connection     notalk         FAIL\n",
       "1792  1971  Willy Wonka &amp; the Chocolate Factory        men         FAIL\n",
       "1793  1970           Beyond the Valley of the Dolls         ok         PASS\n",
       "\n",
       "[1794 rows x 4 columns]"
      ]
     },
     "execution_count": 31,
     "metadata": {},
     "output_type": "execute_result"
    }
   ],
   "source": [
    "df2"
   ]
  },
  {
   "cell_type": "code",
   "execution_count": 8,
   "id": "81fec023",
   "metadata": {},
   "outputs": [],
   "source": [
    "#Changed two column names in the first DatFrame\n",
    "\n",
    "df1.columns = ['title', 'year']"
   ]
  },
  {
   "cell_type": "code",
   "execution_count": 9,
   "id": "26e5269f",
   "metadata": {},
   "outputs": [],
   "source": [
    "#Changed one column name in the second DataFrame\n",
    "df2.rename(columns={\"binary\" : \"pass_or_fail\"}, inplace=True)"
   ]
  },
  {
   "cell_type": "code",
   "execution_count": 11,
   "id": "0f1b8fe4",
   "metadata": {},
   "outputs": [],
   "source": [
    "#Changed the yeah column from an int into an object to merge both DataFrames\n",
    "df2.year = df2.year.astype(str)"
   ]
  },
  {
   "cell_type": "code",
   "execution_count": 12,
   "id": "dde1acf7",
   "metadata": {},
   "outputs": [
    {
     "data": {
      "text/html": [
       "<div>\n",
       "<style scoped>\n",
       "    .dataframe tbody tr th:only-of-type {\n",
       "        vertical-align: middle;\n",
       "    }\n",
       "\n",
       "    .dataframe tbody tr th {\n",
       "        vertical-align: top;\n",
       "    }\n",
       "\n",
       "    .dataframe thead th {\n",
       "        text-align: right;\n",
       "    }\n",
       "</style>\n",
       "<table border=\"1\" class=\"dataframe\">\n",
       "  <thead>\n",
       "    <tr style=\"text-align: right;\">\n",
       "      <th></th>\n",
       "      <th>title</th>\n",
       "      <th>year</th>\n",
       "      <th>clean_test</th>\n",
       "      <th>pass_or_fail</th>\n",
       "    </tr>\n",
       "  </thead>\n",
       "  <tbody>\n",
       "    <tr>\n",
       "      <th>0</th>\n",
       "      <td>Avatar</td>\n",
       "      <td>2009</td>\n",
       "      <td>men</td>\n",
       "      <td>FAIL</td>\n",
       "    </tr>\n",
       "    <tr>\n",
       "      <th>1</th>\n",
       "      <td>Titanic</td>\n",
       "      <td>1997</td>\n",
       "      <td>ok</td>\n",
       "      <td>PASS</td>\n",
       "    </tr>\n",
       "    <tr>\n",
       "      <th>2</th>\n",
       "      <td>The Avengers</td>\n",
       "      <td>2012</td>\n",
       "      <td>notalk</td>\n",
       "      <td>FAIL</td>\n",
       "    </tr>\n",
       "    <tr>\n",
       "      <th>3</th>\n",
       "      <td>Harry Potter and the Deathly Hallows: Part 2</td>\n",
       "      <td>2011</td>\n",
       "      <td>notalk</td>\n",
       "      <td>FAIL</td>\n",
       "    </tr>\n",
       "    <tr>\n",
       "      <th>4</th>\n",
       "      <td>Frozen</td>\n",
       "      <td>2013</td>\n",
       "      <td>ok</td>\n",
       "      <td>PASS</td>\n",
       "    </tr>\n",
       "    <tr>\n",
       "      <th>...</th>\n",
       "      <td>...</td>\n",
       "      <td>...</td>\n",
       "      <td>...</td>\n",
       "      <td>...</td>\n",
       "    </tr>\n",
       "    <tr>\n",
       "      <th>421</th>\n",
       "      <td>The 40 Year Old Virgin</td>\n",
       "      <td>2005</td>\n",
       "      <td>men</td>\n",
       "      <td>FAIL</td>\n",
       "    </tr>\n",
       "    <tr>\n",
       "      <th>422</th>\n",
       "      <td>The Haunting</td>\n",
       "      <td>1999</td>\n",
       "      <td>ok</td>\n",
       "      <td>PASS</td>\n",
       "    </tr>\n",
       "    <tr>\n",
       "      <th>423</th>\n",
       "      <td>The A-Team</td>\n",
       "      <td>2010</td>\n",
       "      <td>nowomen</td>\n",
       "      <td>FAIL</td>\n",
       "    </tr>\n",
       "    <tr>\n",
       "      <th>424</th>\n",
       "      <td>Tootsie</td>\n",
       "      <td>1982</td>\n",
       "      <td>notalk</td>\n",
       "      <td>FAIL</td>\n",
       "    </tr>\n",
       "    <tr>\n",
       "      <th>425</th>\n",
       "      <td>Analyze This</td>\n",
       "      <td>1999</td>\n",
       "      <td>notalk</td>\n",
       "      <td>FAIL</td>\n",
       "    </tr>\n",
       "  </tbody>\n",
       "</table>\n",
       "<p>426 rows × 4 columns</p>\n",
       "</div>"
      ],
      "text/plain": [
       "                                            title  year clean_test  \\\n",
       "0                                          Avatar  2009        men   \n",
       "1                                         Titanic  1997         ok   \n",
       "2                                    The Avengers  2012     notalk   \n",
       "3    Harry Potter and the Deathly Hallows: Part 2  2011     notalk   \n",
       "4                                          Frozen  2013         ok   \n",
       "..                                            ...   ...        ...   \n",
       "421                        The 40 Year Old Virgin  2005        men   \n",
       "422                                  The Haunting  1999         ok   \n",
       "423                                    The A-Team  2010    nowomen   \n",
       "424                                       Tootsie  1982     notalk   \n",
       "425                                  Analyze This  1999     notalk   \n",
       "\n",
       "    pass_or_fail  \n",
       "0           FAIL  \n",
       "1           PASS  \n",
       "2           FAIL  \n",
       "3           FAIL  \n",
       "4           PASS  \n",
       "..           ...  \n",
       "421         FAIL  \n",
       "422         PASS  \n",
       "423         FAIL  \n",
       "424         FAIL  \n",
       "425         FAIL  \n",
       "\n",
       "[426 rows x 4 columns]"
      ]
     },
     "execution_count": 12,
     "metadata": {},
     "output_type": "execute_result"
    }
   ],
   "source": [
    "#Mereged both DatFrames \n",
    "df3 = pd.merge(df1,df2)\n",
    "df3"
   ]
  },
  {
   "cell_type": "code",
   "execution_count": 13,
   "id": "6c141e85",
   "metadata": {},
   "outputs": [
    {
     "data": {
      "text/plain": [
       "(278, 2)"
      ]
     },
     "execution_count": 13,
     "metadata": {},
     "output_type": "execute_result"
    }
   ],
   "source": [
    "#Filtered the new DataFrame to see which movies failed and which passed the test\n",
    "fail = df3.loc[df3.pass_or_fail.str.contains('fail', case=False), ['title', 'pass_or_fail']]\n",
    "fail.shape"
   ]
  },
  {
   "cell_type": "code",
   "execution_count": 14,
   "id": "a2798243",
   "metadata": {},
   "outputs": [
    {
     "data": {
      "text/plain": [
       "(148, 2)"
      ]
     },
     "execution_count": 14,
     "metadata": {},
     "output_type": "execute_result"
    }
   ],
   "source": [
    "did_not_fail = df3.loc[df3.pass_or_fail.str.contains('pass', case=False), ['title', 'pass_or_fail']]\n",
    "did_not_fail.shape"
   ]
  },
  {
   "cell_type": "code",
   "execution_count": 15,
   "id": "03aa757a",
   "metadata": {},
   "outputs": [
    {
     "data": {
      "text/html": [
       "<div>\n",
       "<style scoped>\n",
       "    .dataframe tbody tr th:only-of-type {\n",
       "        vertical-align: middle;\n",
       "    }\n",
       "\n",
       "    .dataframe tbody tr th {\n",
       "        vertical-align: top;\n",
       "    }\n",
       "\n",
       "    .dataframe thead th {\n",
       "        text-align: right;\n",
       "    }\n",
       "</style>\n",
       "<table border=\"1\" class=\"dataframe\">\n",
       "  <thead>\n",
       "    <tr style=\"text-align: right;\">\n",
       "      <th></th>\n",
       "      <th>title</th>\n",
       "      <th>year</th>\n",
       "      <th>clean_test</th>\n",
       "      <th>pass_or_fail</th>\n",
       "    </tr>\n",
       "  </thead>\n",
       "  <tbody>\n",
       "    <tr>\n",
       "      <th>1</th>\n",
       "      <td>Titanic</td>\n",
       "      <td>1997</td>\n",
       "      <td>ok</td>\n",
       "      <td>PASS</td>\n",
       "    </tr>\n",
       "    <tr>\n",
       "      <th>4</th>\n",
       "      <td>Frozen</td>\n",
       "      <td>2013</td>\n",
       "      <td>ok</td>\n",
       "      <td>PASS</td>\n",
       "    </tr>\n",
       "    <tr>\n",
       "      <th>6</th>\n",
       "      <td>Transformers: Dark of the Moon</td>\n",
       "      <td>2011</td>\n",
       "      <td>ok</td>\n",
       "      <td>PASS</td>\n",
       "    </tr>\n",
       "    <tr>\n",
       "      <th>8</th>\n",
       "      <td>Jurassic Park</td>\n",
       "      <td>1993</td>\n",
       "      <td>ok</td>\n",
       "      <td>PASS</td>\n",
       "    </tr>\n",
       "    <tr>\n",
       "      <th>13</th>\n",
       "      <td>Star Wars: Episode I - The Phantom Menace</td>\n",
       "      <td>1999</td>\n",
       "      <td>ok</td>\n",
       "      <td>PASS</td>\n",
       "    </tr>\n",
       "    <tr>\n",
       "      <th>...</th>\n",
       "      <td>...</td>\n",
       "      <td>...</td>\n",
       "      <td>...</td>\n",
       "      <td>...</td>\n",
       "    </tr>\n",
       "    <tr>\n",
       "      <th>406</th>\n",
       "      <td>The Bridges of Madison County</td>\n",
       "      <td>1995</td>\n",
       "      <td>ok</td>\n",
       "      <td>PASS</td>\n",
       "    </tr>\n",
       "    <tr>\n",
       "      <th>408</th>\n",
       "      <td>The First Wives Club</td>\n",
       "      <td>1996</td>\n",
       "      <td>ok</td>\n",
       "      <td>PASS</td>\n",
       "    </tr>\n",
       "    <tr>\n",
       "      <th>409</th>\n",
       "      <td>Kill Bill: Vol. 1</td>\n",
       "      <td>2003</td>\n",
       "      <td>ok</td>\n",
       "      <td>PASS</td>\n",
       "    </tr>\n",
       "    <tr>\n",
       "      <th>418</th>\n",
       "      <td>Paranormal Activity 2</td>\n",
       "      <td>2010</td>\n",
       "      <td>ok</td>\n",
       "      <td>PASS</td>\n",
       "    </tr>\n",
       "    <tr>\n",
       "      <th>422</th>\n",
       "      <td>The Haunting</td>\n",
       "      <td>1999</td>\n",
       "      <td>ok</td>\n",
       "      <td>PASS</td>\n",
       "    </tr>\n",
       "  </tbody>\n",
       "</table>\n",
       "<p>148 rows × 4 columns</p>\n",
       "</div>"
      ],
      "text/plain": [
       "                                         title  year clean_test pass_or_fail\n",
       "1                                      Titanic  1997         ok         PASS\n",
       "4                                       Frozen  2013         ok         PASS\n",
       "6               Transformers: Dark of the Moon  2011         ok         PASS\n",
       "8                                Jurassic Park  1993         ok         PASS\n",
       "13   Star Wars: Episode I - The Phantom Menace  1999         ok         PASS\n",
       "..                                         ...   ...        ...          ...\n",
       "406              The Bridges of Madison County  1995         ok         PASS\n",
       "408                       The First Wives Club  1996         ok         PASS\n",
       "409                          Kill Bill: Vol. 1  2003         ok         PASS\n",
       "418                      Paranormal Activity 2  2010         ok         PASS\n",
       "422                               The Haunting  1999         ok         PASS\n",
       "\n",
       "[148 rows x 4 columns]"
      ]
     },
     "execution_count": 15,
     "metadata": {},
     "output_type": "execute_result"
    }
   ],
   "source": [
    "passed = df3.loc[df3.pass_or_fail == 'PASS',:]\n",
    "passed"
   ]
  },
  {
   "cell_type": "code",
   "execution_count": 16,
   "id": "e37a1063",
   "metadata": {},
   "outputs": [
    {
     "data": {
      "text/plain": [
       "(2,)"
      ]
     },
     "execution_count": 16,
     "metadata": {},
     "output_type": "execute_result"
    }
   ],
   "source": [
    "#Filtered the data to see how many movies passed the test for each decade\n",
    "\n",
    "ilt = (passed['year'] > '1970') & (passed['year'] < '1980')\n",
    "seventies  = filt.loc[filt == True]\n",
    "seventies .shape"
   ]
  },
  {
   "cell_type": "code",
   "execution_count": 17,
   "id": "757234b3",
   "metadata": {},
   "outputs": [
    {
     "data": {
      "text/plain": [
       "(1,)"
      ]
     },
     "execution_count": 17,
     "metadata": {},
     "output_type": "execute_result"
    }
   ],
   "source": [
    "filt = (passed['year'] > '1980') & (passed['year'] < '1990')\n",
    "eighties = filt.loc[filt == True]\n",
    "eighties.shape"
   ]
  },
  {
   "cell_type": "code",
   "execution_count": 18,
   "id": "d3814649",
   "metadata": {},
   "outputs": [
    {
     "data": {
      "text/plain": [
       "(30,)"
      ]
     },
     "execution_count": 18,
     "metadata": {},
     "output_type": "execute_result"
    }
   ],
   "source": [
    "filt = (passed['year'] > '1990') & (passed['year'] < '2000')\n",
    "nineties = filt.loc[filt == True]\n",
    "nineties.shape"
   ]
  },
  {
   "cell_type": "code",
   "execution_count": 19,
   "id": "9aafa6f0",
   "metadata": {},
   "outputs": [
    {
     "data": {
      "text/plain": [
       "(59,)"
      ]
     },
     "execution_count": 19,
     "metadata": {},
     "output_type": "execute_result"
    }
   ],
   "source": [
    "filt = (passed['year'] > '2000') & (df3['year'] < '2010')\n",
    "aughts = filt.loc[filt == True]\n",
    "aughts.shape"
   ]
  },
  {
   "cell_type": "code",
   "execution_count": 20,
   "id": "0369e9df",
   "metadata": {},
   "outputs": [
    {
     "data": {
      "text/plain": [
       "(37,)"
      ]
     },
     "execution_count": 20,
     "metadata": {},
     "output_type": "execute_result"
    }
   ],
   "source": [
    "filt = (passed['year'] > '2010') & (passed['year'] < '2020')\n",
    "twenty_tens = filt.loc[filt == True]\n",
    "twenty_tens.shape"
   ]
  },
  {
   "cell_type": "code",
   "execution_count": 21,
   "id": "66679285",
   "metadata": {},
   "outputs": [
    {
     "data": {
      "text/html": [
       "<div>\n",
       "<style scoped>\n",
       "    .dataframe tbody tr th:only-of-type {\n",
       "        vertical-align: middle;\n",
       "    }\n",
       "\n",
       "    .dataframe tbody tr th {\n",
       "        vertical-align: top;\n",
       "    }\n",
       "\n",
       "    .dataframe thead th {\n",
       "        text-align: right;\n",
       "    }\n",
       "</style>\n",
       "<table border=\"1\" class=\"dataframe\">\n",
       "  <thead>\n",
       "    <tr style=\"text-align: right;\">\n",
       "      <th></th>\n",
       "      <th>title</th>\n",
       "      <th>year</th>\n",
       "      <th>clean_test</th>\n",
       "      <th>pass_or_fail</th>\n",
       "    </tr>\n",
       "  </thead>\n",
       "  <tbody>\n",
       "    <tr>\n",
       "      <th>0</th>\n",
       "      <td>Avatar</td>\n",
       "      <td>2009</td>\n",
       "      <td>men</td>\n",
       "      <td>FAIL</td>\n",
       "    </tr>\n",
       "    <tr>\n",
       "      <th>2</th>\n",
       "      <td>The Avengers</td>\n",
       "      <td>2012</td>\n",
       "      <td>notalk</td>\n",
       "      <td>FAIL</td>\n",
       "    </tr>\n",
       "    <tr>\n",
       "      <th>3</th>\n",
       "      <td>Harry Potter and the Deathly Hallows: Part 2</td>\n",
       "      <td>2011</td>\n",
       "      <td>notalk</td>\n",
       "      <td>FAIL</td>\n",
       "    </tr>\n",
       "    <tr>\n",
       "      <th>5</th>\n",
       "      <td>The Lord of the Rings: The Return of the King</td>\n",
       "      <td>2003</td>\n",
       "      <td>notalk</td>\n",
       "      <td>FAIL</td>\n",
       "    </tr>\n",
       "    <tr>\n",
       "      <th>7</th>\n",
       "      <td>Skyfall</td>\n",
       "      <td>2012</td>\n",
       "      <td>dubious</td>\n",
       "      <td>FAIL</td>\n",
       "    </tr>\n",
       "    <tr>\n",
       "      <th>...</th>\n",
       "      <td>...</td>\n",
       "      <td>...</td>\n",
       "      <td>...</td>\n",
       "      <td>...</td>\n",
       "    </tr>\n",
       "    <tr>\n",
       "      <th>420</th>\n",
       "      <td>AVP: Alien vs. Predator</td>\n",
       "      <td>2004</td>\n",
       "      <td>dubious</td>\n",
       "      <td>FAIL</td>\n",
       "    </tr>\n",
       "    <tr>\n",
       "      <th>421</th>\n",
       "      <td>The 40 Year Old Virgin</td>\n",
       "      <td>2005</td>\n",
       "      <td>men</td>\n",
       "      <td>FAIL</td>\n",
       "    </tr>\n",
       "    <tr>\n",
       "      <th>423</th>\n",
       "      <td>The A-Team</td>\n",
       "      <td>2010</td>\n",
       "      <td>nowomen</td>\n",
       "      <td>FAIL</td>\n",
       "    </tr>\n",
       "    <tr>\n",
       "      <th>424</th>\n",
       "      <td>Tootsie</td>\n",
       "      <td>1982</td>\n",
       "      <td>notalk</td>\n",
       "      <td>FAIL</td>\n",
       "    </tr>\n",
       "    <tr>\n",
       "      <th>425</th>\n",
       "      <td>Analyze This</td>\n",
       "      <td>1999</td>\n",
       "      <td>notalk</td>\n",
       "      <td>FAIL</td>\n",
       "    </tr>\n",
       "  </tbody>\n",
       "</table>\n",
       "<p>278 rows × 4 columns</p>\n",
       "</div>"
      ],
      "text/plain": [
       "                                             title  year clean_test  \\\n",
       "0                                           Avatar  2009        men   \n",
       "2                                     The Avengers  2012     notalk   \n",
       "3     Harry Potter and the Deathly Hallows: Part 2  2011     notalk   \n",
       "5    The Lord of the Rings: The Return of the King  2003     notalk   \n",
       "7                                          Skyfall  2012    dubious   \n",
       "..                                             ...   ...        ...   \n",
       "420                        AVP: Alien vs. Predator  2004    dubious   \n",
       "421                         The 40 Year Old Virgin  2005        men   \n",
       "423                                     The A-Team  2010    nowomen   \n",
       "424                                        Tootsie  1982     notalk   \n",
       "425                                   Analyze This  1999     notalk   \n",
       "\n",
       "    pass_or_fail  \n",
       "0           FAIL  \n",
       "2           FAIL  \n",
       "3           FAIL  \n",
       "5           FAIL  \n",
       "7           FAIL  \n",
       "..           ...  \n",
       "420         FAIL  \n",
       "421         FAIL  \n",
       "423         FAIL  \n",
       "424         FAIL  \n",
       "425         FAIL  \n",
       "\n",
       "[278 rows x 4 columns]"
      ]
     },
     "execution_count": 21,
     "metadata": {},
     "output_type": "execute_result"
    }
   ],
   "source": [
    "failed = df3.loc[df3.pass_or_fail == 'FAIL',:]\n",
    "failed"
   ]
  },
  {
   "cell_type": "code",
   "execution_count": 22,
   "id": "8a3ab414",
   "metadata": {},
   "outputs": [
    {
     "data": {
      "text/plain": [
       "array(['men', 'notalk', 'dubious', 'nowomen'], dtype=object)"
      ]
     },
     "execution_count": 22,
     "metadata": {},
     "output_type": "execute_result"
    }
   ],
   "source": [
    "#Filtered the data to see al the results for clean_test\n",
    "failed.clean_test.unique()"
   ]
  },
  {
   "cell_type": "code",
   "execution_count": 23,
   "id": "c311d4f6",
   "metadata": {},
   "outputs": [
    {
     "data": {
      "text/plain": [
       "(31, 4)"
      ]
     },
     "execution_count": 23,
     "metadata": {},
     "output_type": "execute_result"
    }
   ],
   "source": [
    "dubious = failed.loc[failed.clean_test == 'dubious',:]\n",
    "dubious.shape"
   ]
  },
  {
   "cell_type": "code",
   "execution_count": 24,
   "id": "3edcc2c0",
   "metadata": {},
   "outputs": [
    {
     "data": {
      "text/plain": [
       "(40, 4)"
      ]
     },
     "execution_count": 24,
     "metadata": {},
     "output_type": "execute_result"
    }
   ],
   "source": [
    "men = failed.loc[failed.clean_test == 'men',:]\n",
    "men.shape"
   ]
  },
  {
   "cell_type": "code",
   "execution_count": 25,
   "id": "5efb8ccc",
   "metadata": {},
   "outputs": [
    {
     "data": {
      "text/plain": [
       "(169, 4)"
      ]
     },
     "execution_count": 25,
     "metadata": {},
     "output_type": "execute_result"
    }
   ],
   "source": [
    "notalk = failed.loc[failed.clean_test == 'notalk',:]\n",
    "notalk.shape"
   ]
  },
  {
   "cell_type": "code",
   "execution_count": 26,
   "id": "d7440813",
   "metadata": {},
   "outputs": [
    {
     "data": {
      "text/plain": [
       "(38, 4)"
      ]
     },
     "execution_count": 26,
     "metadata": {},
     "output_type": "execute_result"
    }
   ],
   "source": [
    "nowomen = failed.loc[failed.clean_test == 'nowomen',:]\n",
    "nowomen.shape"
   ]
  },
  {
   "cell_type": "code",
   "execution_count": 27,
   "id": "69b7603f",
   "metadata": {},
   "outputs": [
    {
     "data": {
      "image/png": "[encoded data removed]",
      "text/plain": [
       "<Figure size 432x288 with 1 Axes>"
      ]
     },
     "metadata": {},
     "output_type": "display_data"
    }
   ],
   "source": [
    "#Plotted my data\n",
    "\n",
    "slices = [278, 148]\n",
    "labels = ['Failed', 'Passed']\n",
    "colors = ['#2ef8a0', '#fe4a49']\n",
    "plt.pie(slices, labels=labels, colors=colors, autopct=\"%1.1f%%\", wedgeprops={\"edgecolor\": \"black\"})\n",
    "\n",
    "plt.title('How Many Top Selling Films Passed vs Failed the Bechdel Test')\n",
    "plt.tight_layout()\n",
    "plt.show()"
   ]
  },
  {
   "cell_type": "code",
   "execution_count": 28,
   "id": "91679b25",
   "metadata": {},
   "outputs": [
    {
     "data": {
      "image/png": "[encoded data removed]",
      "text/plain": [
       "<Figure size 432x288 with 1 Axes>"
      ]
     },
     "metadata": {
      "needs_background": "light"
     },
     "output_type": "display_data"
    }
   ],
   "source": [
    "decades_x = ['1970s', '1980s', '1990s', '2000s', '2010s']\n",
    "passing_y = [2, 1, 30, 59, 37]\n",
    "\n",
    "plt.plot(decades_x, passing_y, color='#21F8F6', linewidth=6)\n",
    "\n",
    "plt.xlabel('Decades')\n",
    "plt.ylabel('Amount of Films Passing')\n",
    "plt.title('How Many Films Passed th Bechdel Test from 1970s - 2010s')\n",
    "\n",
    "\n",
    "plt.show()\n"
   ]
  },
  {
   "cell_type": "code",
   "execution_count": 29,
   "id": "d14e0c6f",
   "metadata": {},
   "outputs": [
    {
     "data": {
      "image/png": "[encoded data removed]",
      "text/plain": [
       "<Figure size 432x288 with 1 Axes>"
      ]
     },
     "metadata": {},
     "output_type": "display_data"
    }
   ],
   "source": [
    "plt.style.use(\"fivethirtyeight\")\n",
    "\n",
    "requirement_x = ['Dubious', 'Men', 'No Talk', 'No Women']\n",
    "\n",
    "\n",
    "number_of_films_y = [31,40,169,38]\n",
    "\n",
    "plt.bar(requirement_x, number_of_films_y, color=['#f5c600','#d8460b', '#c21703', '#9b4923'])\n",
    "\n",
    "\n",
    "plt.title(\"Reasons Why Films Failed the Bechdel Test\")\n",
    "plt.tight_layout()\n",
    "plt.show()"
   ]
  }
 ],
 "metadata": {
  "kernelspec": {
   "display_name": "Python 3.10.8 64-bit (microsoft store)",
   "language": "python",
   "name": "python3"
  },
  "language_info": {
   "codemirror_mode": {
    "name": "ipython",
    "version": 3
   },
   "file_extension": ".py",
   "mimetype": "text/x-python",
   "name": "python",
   "nbconvert_exporter": "python",
   "pygments_lexer": "ipython3",
   "version": "3.10.8"
  },
  "vscode": {
   "interpreter": {
    "hash": "9395492f99cc3d3d9f9c32656896b03200aa87017b62a5b1c67b0396a18b8a00"
   }
  }
 },
 "nbformat": 4,
 "nbformat_minor": 5
}
